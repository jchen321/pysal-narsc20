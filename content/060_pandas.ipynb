{
 "cells": [
  {
   "cell_type": "markdown",
   "metadata": {},
   "source": [
    "# Pandas\n",
    "\n",
    "This notebook presents an introduction to the `pandas` package.\n",
    "We focus on only the most commonly used features of `pandas` as they pertain to geospatial data analysis. More extensive references are given at the end of the notebook."
   ]
  },
  {
   "cell_type": "code",
   "execution_count": 1,
   "metadata": {},
   "outputs": [],
   "source": [
    "import pandas\n",
    "import numpy as np"
   ]
  },
  {
   "cell_type": "code",
   "execution_count": 4,
   "metadata": {},
   "outputs": [],
   "source": [
    "ward = np.tile([1,2,3,4,5], 5)\n",
    "population = np.random.randint(5000, size=(25,))\n",
    "poverty = np.random.random(size=(25,)) * .4"
   ]
  },
  {
   "cell_type": "code",
   "execution_count": 5,
   "metadata": {},
   "outputs": [
    {
     "data": {
      "text/plain": [
       "array([0.38985375, 0.07375116, 0.19523427, 0.15807276, 0.03495397,\n",
       "       0.02176942, 0.37693912, 0.35401639, 0.20658366, 0.01838118,\n",
       "       0.21342018, 0.24603012, 0.04140064, 0.13604984, 0.33264587,\n",
       "       0.24227604, 0.28037508, 0.22047889, 0.30284564, 0.24586561,\n",
       "       0.21655253, 0.06935885, 0.38820126, 0.21746861, 0.16131426])"
      ]
     },
     "execution_count": 5,
     "metadata": {},
     "output_type": "execute_result"
    }
   ],
   "source": [
    "poverty"
   ]
  },
  {
   "cell_type": "code",
   "execution_count": 6,
   "metadata": {},
   "outputs": [
    {
     "data": {
      "text/plain": [
       "array([2564, 3153, 2934,  259, 2417,  596, 4175, 4554, 1040, 3571, 4563,\n",
       "       3337, 1288, 4533,  498, 4841, 1750, 2030, 4197, 1394, 3735, 1579,\n",
       "       2401, 2563,  549])"
      ]
     },
     "execution_count": 6,
     "metadata": {},
     "output_type": "execute_result"
    }
   ],
   "source": [
    "population"
   ]
  },
  {
   "cell_type": "code",
   "execution_count": 7,
   "metadata": {},
   "outputs": [
    {
     "data": {
      "text/plain": [
       "array([1, 2, 3, 4, 5, 1, 2, 3, 4, 5, 1, 2, 3, 4, 5, 1, 2, 3, 4, 5, 1, 2,\n",
       "       3, 4, 5])"
      ]
     },
     "execution_count": 7,
     "metadata": {},
     "output_type": "execute_result"
    }
   ],
   "source": [
    "ward"
   ]
  },
  {
   "cell_type": "code",
   "execution_count": 8,
   "metadata": {},
   "outputs": [],
   "source": [
    "df = pandas.DataFrame({'population': population,\n",
    "                      'ward': ward,\n",
    "                      'poverty': poverty})"
   ]
  },
  {
   "cell_type": "code",
   "execution_count": 9,
   "metadata": {},
   "outputs": [
    {
     "data": {
      "text/html": [
       "<div>\n",
       "<style scoped>\n",
       "    .dataframe tbody tr th:only-of-type {\n",
       "        vertical-align: middle;\n",
       "    }\n",
       "\n",
       "    .dataframe tbody tr th {\n",
       "        vertical-align: top;\n",
       "    }\n",
       "\n",
       "    .dataframe thead th {\n",
       "        text-align: right;\n",
       "    }\n",
       "</style>\n",
       "<table border=\"1\" class=\"dataframe\">\n",
       "  <thead>\n",
       "    <tr style=\"text-align: right;\">\n",
       "      <th></th>\n",
       "      <th>population</th>\n",
       "      <th>ward</th>\n",
       "      <th>poverty</th>\n",
       "    </tr>\n",
       "  </thead>\n",
       "  <tbody>\n",
       "    <tr>\n",
       "      <th>0</th>\n",
       "      <td>2564</td>\n",
       "      <td>1</td>\n",
       "      <td>0.389854</td>\n",
       "    </tr>\n",
       "    <tr>\n",
       "      <th>1</th>\n",
       "      <td>3153</td>\n",
       "      <td>2</td>\n",
       "      <td>0.073751</td>\n",
       "    </tr>\n",
       "    <tr>\n",
       "      <th>2</th>\n",
       "      <td>2934</td>\n",
       "      <td>3</td>\n",
       "      <td>0.195234</td>\n",
       "    </tr>\n",
       "    <tr>\n",
       "      <th>3</th>\n",
       "      <td>259</td>\n",
       "      <td>4</td>\n",
       "      <td>0.158073</td>\n",
       "    </tr>\n",
       "    <tr>\n",
       "      <th>4</th>\n",
       "      <td>2417</td>\n",
       "      <td>5</td>\n",
       "      <td>0.034954</td>\n",
       "    </tr>\n",
       "  </tbody>\n",
       "</table>\n",
       "</div>"
      ],
      "text/plain": [
       "   population  ward   poverty\n",
       "0        2564     1  0.389854\n",
       "1        3153     2  0.073751\n",
       "2        2934     3  0.195234\n",
       "3         259     4  0.158073\n",
       "4        2417     5  0.034954"
      ]
     },
     "execution_count": 9,
     "metadata": {},
     "output_type": "execute_result"
    }
   ],
   "source": [
    "df.head()"
   ]
  },
  {
   "cell_type": "code",
   "execution_count": 10,
   "metadata": {},
   "outputs": [
    {
     "data": {
      "text/html": [
       "<div>\n",
       "<style scoped>\n",
       "    .dataframe tbody tr th:only-of-type {\n",
       "        vertical-align: middle;\n",
       "    }\n",
       "\n",
       "    .dataframe tbody tr th {\n",
       "        vertical-align: top;\n",
       "    }\n",
       "\n",
       "    .dataframe thead th {\n",
       "        text-align: right;\n",
       "    }\n",
       "</style>\n",
       "<table border=\"1\" class=\"dataframe\">\n",
       "  <thead>\n",
       "    <tr style=\"text-align: right;\">\n",
       "      <th></th>\n",
       "      <th>population</th>\n",
       "      <th>ward</th>\n",
       "      <th>poverty</th>\n",
       "    </tr>\n",
       "  </thead>\n",
       "  <tbody>\n",
       "    <tr>\n",
       "      <th>20</th>\n",
       "      <td>3735</td>\n",
       "      <td>1</td>\n",
       "      <td>0.216553</td>\n",
       "    </tr>\n",
       "    <tr>\n",
       "      <th>21</th>\n",
       "      <td>1579</td>\n",
       "      <td>2</td>\n",
       "      <td>0.069359</td>\n",
       "    </tr>\n",
       "    <tr>\n",
       "      <th>22</th>\n",
       "      <td>2401</td>\n",
       "      <td>3</td>\n",
       "      <td>0.388201</td>\n",
       "    </tr>\n",
       "    <tr>\n",
       "      <th>23</th>\n",
       "      <td>2563</td>\n",
       "      <td>4</td>\n",
       "      <td>0.217469</td>\n",
       "    </tr>\n",
       "    <tr>\n",
       "      <th>24</th>\n",
       "      <td>549</td>\n",
       "      <td>5</td>\n",
       "      <td>0.161314</td>\n",
       "    </tr>\n",
       "  </tbody>\n",
       "</table>\n",
       "</div>"
      ],
      "text/plain": [
       "    population  ward   poverty\n",
       "20        3735     1  0.216553\n",
       "21        1579     2  0.069359\n",
       "22        2401     3  0.388201\n",
       "23        2563     4  0.217469\n",
       "24         549     5  0.161314"
      ]
     },
     "execution_count": 10,
     "metadata": {},
     "output_type": "execute_result"
    }
   ],
   "source": [
    "df.tail()"
   ]
  },
  {
   "cell_type": "code",
   "execution_count": 11,
   "metadata": {},
   "outputs": [
    {
     "data": {
      "text/plain": [
       "(25, 3)"
      ]
     },
     "execution_count": 11,
     "metadata": {},
     "output_type": "execute_result"
    }
   ],
   "source": [
    "df.shape"
   ]
  },
  {
   "cell_type": "code",
   "execution_count": 12,
   "metadata": {},
   "outputs": [
    {
     "data": {
      "text/plain": [
       "pandas.core.frame.DataFrame"
      ]
     },
     "execution_count": 12,
     "metadata": {},
     "output_type": "execute_result"
    }
   ],
   "source": [
    "type(df)"
   ]
  },
  {
   "cell_type": "code",
   "execution_count": 13,
   "metadata": {},
   "outputs": [
    {
     "data": {
      "text/plain": [
       "pandas.core.series.Series"
      ]
     },
     "execution_count": 13,
     "metadata": {},
     "output_type": "execute_result"
    }
   ],
   "source": [
    "type(df.population)"
   ]
  },
  {
   "cell_type": "markdown",
   "metadata": {},
   "source": [
    "## indexing"
   ]
  },
  {
   "cell_type": "code",
   "execution_count": 14,
   "metadata": {},
   "outputs": [
    {
     "data": {
      "text/plain": [
       "0     2564\n",
       "1     3153\n",
       "2     2934\n",
       "3      259\n",
       "4     2417\n",
       "5      596\n",
       "6     4175\n",
       "7     4554\n",
       "8     1040\n",
       "9     3571\n",
       "10    4563\n",
       "11    3337\n",
       "12    1288\n",
       "13    4533\n",
       "14     498\n",
       "15    4841\n",
       "16    1750\n",
       "17    2030\n",
       "18    4197\n",
       "19    1394\n",
       "20    3735\n",
       "21    1579\n",
       "22    2401\n",
       "23    2563\n",
       "24     549\n",
       "Name: population, dtype: int64"
      ]
     },
     "execution_count": 14,
     "metadata": {},
     "output_type": "execute_result"
    }
   ],
   "source": [
    "df['population']"
   ]
  },
  {
   "cell_type": "code",
   "execution_count": 15,
   "metadata": {},
   "outputs": [
    {
     "data": {
      "text/plain": [
       "0     2564\n",
       "1     3153\n",
       "2     2934\n",
       "3      259\n",
       "4     2417\n",
       "5      596\n",
       "6     4175\n",
       "7     4554\n",
       "8     1040\n",
       "9     3571\n",
       "10    4563\n",
       "11    3337\n",
       "12    1288\n",
       "13    4533\n",
       "14     498\n",
       "15    4841\n",
       "16    1750\n",
       "17    2030\n",
       "18    4197\n",
       "19    1394\n",
       "20    3735\n",
       "21    1579\n",
       "22    2401\n",
       "23    2563\n",
       "24     549\n",
       "Name: population, dtype: int64"
      ]
     },
     "execution_count": 15,
     "metadata": {},
     "output_type": "execute_result"
    }
   ],
   "source": [
    "df.population"
   ]
  },
  {
   "cell_type": "code",
   "execution_count": 16,
   "metadata": {},
   "outputs": [
    {
     "data": {
      "text/html": [
       "<div>\n",
       "<style scoped>\n",
       "    .dataframe tbody tr th:only-of-type {\n",
       "        vertical-align: middle;\n",
       "    }\n",
       "\n",
       "    .dataframe tbody tr th {\n",
       "        vertical-align: top;\n",
       "    }\n",
       "\n",
       "    .dataframe thead th {\n",
       "        text-align: right;\n",
       "    }\n",
       "</style>\n",
       "<table border=\"1\" class=\"dataframe\">\n",
       "  <thead>\n",
       "    <tr style=\"text-align: right;\">\n",
       "      <th></th>\n",
       "      <th>population</th>\n",
       "      <th>ward</th>\n",
       "      <th>poverty</th>\n",
       "    </tr>\n",
       "  </thead>\n",
       "  <tbody>\n",
       "    <tr>\n",
       "      <th>0</th>\n",
       "      <td>2564</td>\n",
       "      <td>1</td>\n",
       "      <td>0.389854</td>\n",
       "    </tr>\n",
       "    <tr>\n",
       "      <th>1</th>\n",
       "      <td>3153</td>\n",
       "      <td>2</td>\n",
       "      <td>0.073751</td>\n",
       "    </tr>\n",
       "    <tr>\n",
       "      <th>2</th>\n",
       "      <td>2934</td>\n",
       "      <td>3</td>\n",
       "      <td>0.195234</td>\n",
       "    </tr>\n",
       "    <tr>\n",
       "      <th>3</th>\n",
       "      <td>259</td>\n",
       "      <td>4</td>\n",
       "      <td>0.158073</td>\n",
       "    </tr>\n",
       "  </tbody>\n",
       "</table>\n",
       "</div>"
      ],
      "text/plain": [
       "   population  ward   poverty\n",
       "0        2564     1  0.389854\n",
       "1        3153     2  0.073751\n",
       "2        2934     3  0.195234\n",
       "3         259     4  0.158073"
      ]
     },
     "execution_count": 16,
     "metadata": {},
     "output_type": "execute_result"
    }
   ],
   "source": [
    "df[0:4]"
   ]
  },
  {
   "cell_type": "code",
   "execution_count": 17,
   "metadata": {},
   "outputs": [
    {
     "data": {
      "text/html": [
       "<div>\n",
       "<style scoped>\n",
       "    .dataframe tbody tr th:only-of-type {\n",
       "        vertical-align: middle;\n",
       "    }\n",
       "\n",
       "    .dataframe tbody tr th {\n",
       "        vertical-align: top;\n",
       "    }\n",
       "\n",
       "    .dataframe thead th {\n",
       "        text-align: right;\n",
       "    }\n",
       "</style>\n",
       "<table border=\"1\" class=\"dataframe\">\n",
       "  <thead>\n",
       "    <tr style=\"text-align: right;\">\n",
       "      <th></th>\n",
       "      <th>population</th>\n",
       "      <th>ward</th>\n",
       "      <th>poverty</th>\n",
       "    </tr>\n",
       "  </thead>\n",
       "  <tbody>\n",
       "    <tr>\n",
       "      <th>21</th>\n",
       "      <td>1579</td>\n",
       "      <td>2</td>\n",
       "      <td>0.069359</td>\n",
       "    </tr>\n",
       "    <tr>\n",
       "      <th>22</th>\n",
       "      <td>2401</td>\n",
       "      <td>3</td>\n",
       "      <td>0.388201</td>\n",
       "    </tr>\n",
       "    <tr>\n",
       "      <th>23</th>\n",
       "      <td>2563</td>\n",
       "      <td>4</td>\n",
       "      <td>0.217469</td>\n",
       "    </tr>\n",
       "    <tr>\n",
       "      <th>24</th>\n",
       "      <td>549</td>\n",
       "      <td>5</td>\n",
       "      <td>0.161314</td>\n",
       "    </tr>\n",
       "  </tbody>\n",
       "</table>\n",
       "</div>"
      ],
      "text/plain": [
       "    population  ward   poverty\n",
       "21        1579     2  0.069359\n",
       "22        2401     3  0.388201\n",
       "23        2563     4  0.217469\n",
       "24         549     5  0.161314"
      ]
     },
     "execution_count": 17,
     "metadata": {},
     "output_type": "execute_result"
    }
   ],
   "source": [
    "df[-4:]"
   ]
  },
  {
   "cell_type": "code",
   "execution_count": 18,
   "metadata": {},
   "outputs": [
    {
     "data": {
      "text/html": [
       "<div>\n",
       "<style scoped>\n",
       "    .dataframe tbody tr th:only-of-type {\n",
       "        vertical-align: middle;\n",
       "    }\n",
       "\n",
       "    .dataframe tbody tr th {\n",
       "        vertical-align: top;\n",
       "    }\n",
       "\n",
       "    .dataframe thead th {\n",
       "        text-align: right;\n",
       "    }\n",
       "</style>\n",
       "<table border=\"1\" class=\"dataframe\">\n",
       "  <thead>\n",
       "    <tr style=\"text-align: right;\">\n",
       "      <th></th>\n",
       "      <th>population</th>\n",
       "      <th>ward</th>\n",
       "      <th>poverty</th>\n",
       "    </tr>\n",
       "  </thead>\n",
       "  <tbody>\n",
       "    <tr>\n",
       "      <th>1</th>\n",
       "      <td>3153</td>\n",
       "      <td>2</td>\n",
       "      <td>0.073751</td>\n",
       "    </tr>\n",
       "    <tr>\n",
       "      <th>6</th>\n",
       "      <td>4175</td>\n",
       "      <td>2</td>\n",
       "      <td>0.376939</td>\n",
       "    </tr>\n",
       "    <tr>\n",
       "      <th>11</th>\n",
       "      <td>3337</td>\n",
       "      <td>2</td>\n",
       "      <td>0.246030</td>\n",
       "    </tr>\n",
       "    <tr>\n",
       "      <th>16</th>\n",
       "      <td>1750</td>\n",
       "      <td>2</td>\n",
       "      <td>0.280375</td>\n",
       "    </tr>\n",
       "    <tr>\n",
       "      <th>21</th>\n",
       "      <td>1579</td>\n",
       "      <td>2</td>\n",
       "      <td>0.069359</td>\n",
       "    </tr>\n",
       "  </tbody>\n",
       "</table>\n",
       "</div>"
      ],
      "text/plain": [
       "    population  ward   poverty\n",
       "1         3153     2  0.073751\n",
       "6         4175     2  0.376939\n",
       "11        3337     2  0.246030\n",
       "16        1750     2  0.280375\n",
       "21        1579     2  0.069359"
      ]
     },
     "execution_count": 18,
     "metadata": {},
     "output_type": "execute_result"
    }
   ],
   "source": [
    "df[df.ward==2]"
   ]
  },
  {
   "cell_type": "code",
   "execution_count": 19,
   "metadata": {},
   "outputs": [
    {
     "data": {
      "text/html": [
       "<div>\n",
       "<style scoped>\n",
       "    .dataframe tbody tr th:only-of-type {\n",
       "        vertical-align: middle;\n",
       "    }\n",
       "\n",
       "    .dataframe tbody tr th {\n",
       "        vertical-align: top;\n",
       "    }\n",
       "\n",
       "    .dataframe thead th {\n",
       "        text-align: right;\n",
       "    }\n",
       "</style>\n",
       "<table border=\"1\" class=\"dataframe\">\n",
       "  <thead>\n",
       "    <tr style=\"text-align: right;\">\n",
       "      <th></th>\n",
       "      <th>population</th>\n",
       "      <th>ward</th>\n",
       "      <th>poverty</th>\n",
       "    </tr>\n",
       "  </thead>\n",
       "  <tbody>\n",
       "  </tbody>\n",
       "</table>\n",
       "</div>"
      ],
      "text/plain": [
       "Empty DataFrame\n",
       "Columns: [population, ward, poverty]\n",
       "Index: []"
      ]
     },
     "execution_count": 19,
     "metadata": {},
     "output_type": "execute_result"
    }
   ],
   "source": [
    "df[(df.ward==2) & (df.population < 1000)]"
   ]
  },
  {
   "cell_type": "code",
   "execution_count": 20,
   "metadata": {},
   "outputs": [
    {
     "data": {
      "text/html": [
       "<div>\n",
       "<style scoped>\n",
       "    .dataframe tbody tr th:only-of-type {\n",
       "        vertical-align: middle;\n",
       "    }\n",
       "\n",
       "    .dataframe tbody tr th {\n",
       "        vertical-align: top;\n",
       "    }\n",
       "\n",
       "    .dataframe thead th {\n",
       "        text-align: right;\n",
       "    }\n",
       "</style>\n",
       "<table border=\"1\" class=\"dataframe\">\n",
       "  <thead>\n",
       "    <tr style=\"text-align: right;\">\n",
       "      <th></th>\n",
       "      <th>population</th>\n",
       "      <th>ward</th>\n",
       "      <th>poverty</th>\n",
       "    </tr>\n",
       "  </thead>\n",
       "  <tbody>\n",
       "    <tr>\n",
       "      <th>3</th>\n",
       "      <td>259</td>\n",
       "      <td>4</td>\n",
       "      <td>0.158073</td>\n",
       "    </tr>\n",
       "    <tr>\n",
       "      <th>5</th>\n",
       "      <td>596</td>\n",
       "      <td>1</td>\n",
       "      <td>0.021769</td>\n",
       "    </tr>\n",
       "    <tr>\n",
       "      <th>14</th>\n",
       "      <td>498</td>\n",
       "      <td>5</td>\n",
       "      <td>0.332646</td>\n",
       "    </tr>\n",
       "    <tr>\n",
       "      <th>24</th>\n",
       "      <td>549</td>\n",
       "      <td>5</td>\n",
       "      <td>0.161314</td>\n",
       "    </tr>\n",
       "  </tbody>\n",
       "</table>\n",
       "</div>"
      ],
      "text/plain": [
       "    population  ward   poverty\n",
       "3          259     4  0.158073\n",
       "5          596     1  0.021769\n",
       "14         498     5  0.332646\n",
       "24         549     5  0.161314"
      ]
     },
     "execution_count": 20,
     "metadata": {},
     "output_type": "execute_result"
    }
   ],
   "source": [
    "df[~(df.ward==2) & (df.population < 1000)] # not in ward 2 and less than 1000 population"
   ]
  },
  {
   "cell_type": "code",
   "execution_count": 21,
   "metadata": {},
   "outputs": [
    {
     "data": {
      "text/html": [
       "<div>\n",
       "<style scoped>\n",
       "    .dataframe tbody tr th:only-of-type {\n",
       "        vertical-align: middle;\n",
       "    }\n",
       "\n",
       "    .dataframe tbody tr th {\n",
       "        vertical-align: top;\n",
       "    }\n",
       "\n",
       "    .dataframe thead th {\n",
       "        text-align: right;\n",
       "    }\n",
       "</style>\n",
       "<table border=\"1\" class=\"dataframe\">\n",
       "  <thead>\n",
       "    <tr style=\"text-align: right;\">\n",
       "      <th></th>\n",
       "      <th>population</th>\n",
       "      <th>ward</th>\n",
       "      <th>poverty</th>\n",
       "    </tr>\n",
       "  </thead>\n",
       "  <tbody>\n",
       "    <tr>\n",
       "      <th>0</th>\n",
       "      <td>2564</td>\n",
       "      <td>1</td>\n",
       "      <td>0.389854</td>\n",
       "    </tr>\n",
       "    <tr>\n",
       "      <th>1</th>\n",
       "      <td>3153</td>\n",
       "      <td>2</td>\n",
       "      <td>0.073751</td>\n",
       "    </tr>\n",
       "    <tr>\n",
       "      <th>2</th>\n",
       "      <td>2934</td>\n",
       "      <td>3</td>\n",
       "      <td>0.195234</td>\n",
       "    </tr>\n",
       "    <tr>\n",
       "      <th>3</th>\n",
       "      <td>259</td>\n",
       "      <td>4</td>\n",
       "      <td>0.158073</td>\n",
       "    </tr>\n",
       "    <tr>\n",
       "      <th>4</th>\n",
       "      <td>2417</td>\n",
       "      <td>5</td>\n",
       "      <td>0.034954</td>\n",
       "    </tr>\n",
       "    <tr>\n",
       "      <th>5</th>\n",
       "      <td>596</td>\n",
       "      <td>1</td>\n",
       "      <td>0.021769</td>\n",
       "    </tr>\n",
       "    <tr>\n",
       "      <th>6</th>\n",
       "      <td>4175</td>\n",
       "      <td>2</td>\n",
       "      <td>0.376939</td>\n",
       "    </tr>\n",
       "    <tr>\n",
       "      <th>7</th>\n",
       "      <td>4554</td>\n",
       "      <td>3</td>\n",
       "      <td>0.354016</td>\n",
       "    </tr>\n",
       "    <tr>\n",
       "      <th>8</th>\n",
       "      <td>1040</td>\n",
       "      <td>4</td>\n",
       "      <td>0.206584</td>\n",
       "    </tr>\n",
       "    <tr>\n",
       "      <th>9</th>\n",
       "      <td>3571</td>\n",
       "      <td>5</td>\n",
       "      <td>0.018381</td>\n",
       "    </tr>\n",
       "    <tr>\n",
       "      <th>10</th>\n",
       "      <td>4563</td>\n",
       "      <td>1</td>\n",
       "      <td>0.213420</td>\n",
       "    </tr>\n",
       "    <tr>\n",
       "      <th>11</th>\n",
       "      <td>3337</td>\n",
       "      <td>2</td>\n",
       "      <td>0.246030</td>\n",
       "    </tr>\n",
       "    <tr>\n",
       "      <th>12</th>\n",
       "      <td>1288</td>\n",
       "      <td>3</td>\n",
       "      <td>0.041401</td>\n",
       "    </tr>\n",
       "    <tr>\n",
       "      <th>13</th>\n",
       "      <td>4533</td>\n",
       "      <td>4</td>\n",
       "      <td>0.136050</td>\n",
       "    </tr>\n",
       "    <tr>\n",
       "      <th>14</th>\n",
       "      <td>498</td>\n",
       "      <td>5</td>\n",
       "      <td>0.332646</td>\n",
       "    </tr>\n",
       "    <tr>\n",
       "      <th>15</th>\n",
       "      <td>4841</td>\n",
       "      <td>1</td>\n",
       "      <td>0.242276</td>\n",
       "    </tr>\n",
       "    <tr>\n",
       "      <th>16</th>\n",
       "      <td>1750</td>\n",
       "      <td>2</td>\n",
       "      <td>0.280375</td>\n",
       "    </tr>\n",
       "    <tr>\n",
       "      <th>17</th>\n",
       "      <td>2030</td>\n",
       "      <td>3</td>\n",
       "      <td>0.220479</td>\n",
       "    </tr>\n",
       "    <tr>\n",
       "      <th>18</th>\n",
       "      <td>4197</td>\n",
       "      <td>4</td>\n",
       "      <td>0.302846</td>\n",
       "    </tr>\n",
       "    <tr>\n",
       "      <th>19</th>\n",
       "      <td>1394</td>\n",
       "      <td>5</td>\n",
       "      <td>0.245866</td>\n",
       "    </tr>\n",
       "    <tr>\n",
       "      <th>20</th>\n",
       "      <td>3735</td>\n",
       "      <td>1</td>\n",
       "      <td>0.216553</td>\n",
       "    </tr>\n",
       "    <tr>\n",
       "      <th>21</th>\n",
       "      <td>1579</td>\n",
       "      <td>2</td>\n",
       "      <td>0.069359</td>\n",
       "    </tr>\n",
       "    <tr>\n",
       "      <th>22</th>\n",
       "      <td>2401</td>\n",
       "      <td>3</td>\n",
       "      <td>0.388201</td>\n",
       "    </tr>\n",
       "    <tr>\n",
       "      <th>23</th>\n",
       "      <td>2563</td>\n",
       "      <td>4</td>\n",
       "      <td>0.217469</td>\n",
       "    </tr>\n",
       "    <tr>\n",
       "      <th>24</th>\n",
       "      <td>549</td>\n",
       "      <td>5</td>\n",
       "      <td>0.161314</td>\n",
       "    </tr>\n",
       "  </tbody>\n",
       "</table>\n",
       "</div>"
      ],
      "text/plain": [
       "    population  ward   poverty\n",
       "0         2564     1  0.389854\n",
       "1         3153     2  0.073751\n",
       "2         2934     3  0.195234\n",
       "3          259     4  0.158073\n",
       "4         2417     5  0.034954\n",
       "5          596     1  0.021769\n",
       "6         4175     2  0.376939\n",
       "7         4554     3  0.354016\n",
       "8         1040     4  0.206584\n",
       "9         3571     5  0.018381\n",
       "10        4563     1  0.213420\n",
       "11        3337     2  0.246030\n",
       "12        1288     3  0.041401\n",
       "13        4533     4  0.136050\n",
       "14         498     5  0.332646\n",
       "15        4841     1  0.242276\n",
       "16        1750     2  0.280375\n",
       "17        2030     3  0.220479\n",
       "18        4197     4  0.302846\n",
       "19        1394     5  0.245866\n",
       "20        3735     1  0.216553\n",
       "21        1579     2  0.069359\n",
       "22        2401     3  0.388201\n",
       "23        2563     4  0.217469\n",
       "24         549     5  0.161314"
      ]
     },
     "execution_count": 21,
     "metadata": {},
     "output_type": "execute_result"
    }
   ],
   "source": [
    "df[~((df.ward==2) & (df.population < 1000))] # not (in ward 2 and less than 1000 population)"
   ]
  },
  {
   "cell_type": "code",
   "execution_count": 22,
   "metadata": {},
   "outputs": [
    {
     "data": {
      "text/html": [
       "<div>\n",
       "<style scoped>\n",
       "    .dataframe tbody tr th:only-of-type {\n",
       "        vertical-align: middle;\n",
       "    }\n",
       "\n",
       "    .dataframe tbody tr th {\n",
       "        vertical-align: top;\n",
       "    }\n",
       "\n",
       "    .dataframe thead th {\n",
       "        text-align: right;\n",
       "    }\n",
       "</style>\n",
       "<table border=\"1\" class=\"dataframe\">\n",
       "  <thead>\n",
       "    <tr style=\"text-align: right;\">\n",
       "      <th></th>\n",
       "      <th>population</th>\n",
       "      <th>ward</th>\n",
       "      <th>poverty</th>\n",
       "    </tr>\n",
       "  </thead>\n",
       "  <tbody>\n",
       "    <tr>\n",
       "      <th>1</th>\n",
       "      <td>3153</td>\n",
       "      <td>2</td>\n",
       "      <td>0.073751</td>\n",
       "    </tr>\n",
       "    <tr>\n",
       "      <th>3</th>\n",
       "      <td>259</td>\n",
       "      <td>4</td>\n",
       "      <td>0.158073</td>\n",
       "    </tr>\n",
       "    <tr>\n",
       "      <th>5</th>\n",
       "      <td>596</td>\n",
       "      <td>1</td>\n",
       "      <td>0.021769</td>\n",
       "    </tr>\n",
       "    <tr>\n",
       "      <th>6</th>\n",
       "      <td>4175</td>\n",
       "      <td>2</td>\n",
       "      <td>0.376939</td>\n",
       "    </tr>\n",
       "    <tr>\n",
       "      <th>11</th>\n",
       "      <td>3337</td>\n",
       "      <td>2</td>\n",
       "      <td>0.246030</td>\n",
       "    </tr>\n",
       "    <tr>\n",
       "      <th>14</th>\n",
       "      <td>498</td>\n",
       "      <td>5</td>\n",
       "      <td>0.332646</td>\n",
       "    </tr>\n",
       "    <tr>\n",
       "      <th>16</th>\n",
       "      <td>1750</td>\n",
       "      <td>2</td>\n",
       "      <td>0.280375</td>\n",
       "    </tr>\n",
       "    <tr>\n",
       "      <th>21</th>\n",
       "      <td>1579</td>\n",
       "      <td>2</td>\n",
       "      <td>0.069359</td>\n",
       "    </tr>\n",
       "    <tr>\n",
       "      <th>24</th>\n",
       "      <td>549</td>\n",
       "      <td>5</td>\n",
       "      <td>0.161314</td>\n",
       "    </tr>\n",
       "  </tbody>\n",
       "</table>\n",
       "</div>"
      ],
      "text/plain": [
       "    population  ward   poverty\n",
       "1         3153     2  0.073751\n",
       "3          259     4  0.158073\n",
       "5          596     1  0.021769\n",
       "6         4175     2  0.376939\n",
       "11        3337     2  0.246030\n",
       "14         498     5  0.332646\n",
       "16        1750     2  0.280375\n",
       "21        1579     2  0.069359\n",
       "24         549     5  0.161314"
      ]
     },
     "execution_count": 22,
     "metadata": {},
     "output_type": "execute_result"
    }
   ],
   "source": [
    "df[(df.ward==2) | (df.population < 1000)] #in ward 2 or less than 1000 population)"
   ]
  },
  {
   "cell_type": "markdown",
   "metadata": {},
   "source": [
    "## New Columns"
   ]
  },
  {
   "cell_type": "code",
   "execution_count": 23,
   "metadata": {},
   "outputs": [
    {
     "data": {
      "text/html": [
       "<div>\n",
       "<style scoped>\n",
       "    .dataframe tbody tr th:only-of-type {\n",
       "        vertical-align: middle;\n",
       "    }\n",
       "\n",
       "    .dataframe tbody tr th {\n",
       "        vertical-align: top;\n",
       "    }\n",
       "\n",
       "    .dataframe thead th {\n",
       "        text-align: right;\n",
       "    }\n",
       "</style>\n",
       "<table border=\"1\" class=\"dataframe\">\n",
       "  <thead>\n",
       "    <tr style=\"text-align: right;\">\n",
       "      <th></th>\n",
       "      <th>population</th>\n",
       "      <th>ward</th>\n",
       "      <th>poverty</th>\n",
       "    </tr>\n",
       "  </thead>\n",
       "  <tbody>\n",
       "    <tr>\n",
       "      <th>0</th>\n",
       "      <td>2564</td>\n",
       "      <td>1</td>\n",
       "      <td>0.389854</td>\n",
       "    </tr>\n",
       "    <tr>\n",
       "      <th>1</th>\n",
       "      <td>3153</td>\n",
       "      <td>2</td>\n",
       "      <td>0.073751</td>\n",
       "    </tr>\n",
       "    <tr>\n",
       "      <th>2</th>\n",
       "      <td>2934</td>\n",
       "      <td>3</td>\n",
       "      <td>0.195234</td>\n",
       "    </tr>\n",
       "    <tr>\n",
       "      <th>3</th>\n",
       "      <td>259</td>\n",
       "      <td>4</td>\n",
       "      <td>0.158073</td>\n",
       "    </tr>\n",
       "    <tr>\n",
       "      <th>4</th>\n",
       "      <td>2417</td>\n",
       "      <td>5</td>\n",
       "      <td>0.034954</td>\n",
       "    </tr>\n",
       "  </tbody>\n",
       "</table>\n",
       "</div>"
      ],
      "text/plain": [
       "   population  ward   poverty\n",
       "0        2564     1  0.389854\n",
       "1        3153     2  0.073751\n",
       "2        2934     3  0.195234\n",
       "3         259     4  0.158073\n",
       "4        2417     5  0.034954"
      ]
     },
     "execution_count": 23,
     "metadata": {},
     "output_type": "execute_result"
    }
   ],
   "source": [
    "df.head()"
   ]
  },
  {
   "cell_type": "code",
   "execution_count": 24,
   "metadata": {},
   "outputs": [
    {
     "data": {
      "text/plain": [
       "0      999.585002\n",
       "1      232.537421\n",
       "2      572.817337\n",
       "3       40.940845\n",
       "4       84.483737\n",
       "5       12.974575\n",
       "6     1573.720822\n",
       "7     1612.190648\n",
       "8      214.847008\n",
       "9       65.639211\n",
       "10     973.836282\n",
       "11     821.002499\n",
       "12      53.324022\n",
       "13     616.713907\n",
       "14     165.657642\n",
       "15    1172.858286\n",
       "16     490.656396\n",
       "17     447.572149\n",
       "18    1271.043136\n",
       "19     342.736655\n",
       "20     808.823710\n",
       "21     109.517631\n",
       "22     932.071216\n",
       "23     557.372038\n",
       "24      88.561529\n",
       "dtype: float64"
      ]
     },
     "execution_count": 24,
     "metadata": {},
     "output_type": "execute_result"
    }
   ],
   "source": [
    "pop_pov = df.population * df.poverty\n",
    "pop_pov"
   ]
  },
  {
   "cell_type": "code",
   "execution_count": 27,
   "metadata": {},
   "outputs": [],
   "source": [
    "df['pop_pov'] = pop_pov.astype('int')"
   ]
  },
  {
   "cell_type": "code",
   "execution_count": 28,
   "metadata": {},
   "outputs": [
    {
     "data": {
      "text/html": [
       "<div>\n",
       "<style scoped>\n",
       "    .dataframe tbody tr th:only-of-type {\n",
       "        vertical-align: middle;\n",
       "    }\n",
       "\n",
       "    .dataframe tbody tr th {\n",
       "        vertical-align: top;\n",
       "    }\n",
       "\n",
       "    .dataframe thead th {\n",
       "        text-align: right;\n",
       "    }\n",
       "</style>\n",
       "<table border=\"1\" class=\"dataframe\">\n",
       "  <thead>\n",
       "    <tr style=\"text-align: right;\">\n",
       "      <th></th>\n",
       "      <th>population</th>\n",
       "      <th>ward</th>\n",
       "      <th>poverty</th>\n",
       "      <th>pop_pov</th>\n",
       "    </tr>\n",
       "  </thead>\n",
       "  <tbody>\n",
       "    <tr>\n",
       "      <th>0</th>\n",
       "      <td>2564</td>\n",
       "      <td>1</td>\n",
       "      <td>0.389854</td>\n",
       "      <td>999</td>\n",
       "    </tr>\n",
       "    <tr>\n",
       "      <th>1</th>\n",
       "      <td>3153</td>\n",
       "      <td>2</td>\n",
       "      <td>0.073751</td>\n",
       "      <td>232</td>\n",
       "    </tr>\n",
       "    <tr>\n",
       "      <th>2</th>\n",
       "      <td>2934</td>\n",
       "      <td>3</td>\n",
       "      <td>0.195234</td>\n",
       "      <td>572</td>\n",
       "    </tr>\n",
       "    <tr>\n",
       "      <th>3</th>\n",
       "      <td>259</td>\n",
       "      <td>4</td>\n",
       "      <td>0.158073</td>\n",
       "      <td>40</td>\n",
       "    </tr>\n",
       "    <tr>\n",
       "      <th>4</th>\n",
       "      <td>2417</td>\n",
       "      <td>5</td>\n",
       "      <td>0.034954</td>\n",
       "      <td>84</td>\n",
       "    </tr>\n",
       "  </tbody>\n",
       "</table>\n",
       "</div>"
      ],
      "text/plain": [
       "   population  ward   poverty  pop_pov\n",
       "0        2564     1  0.389854      999\n",
       "1        3153     2  0.073751      232\n",
       "2        2934     3  0.195234      572\n",
       "3         259     4  0.158073       40\n",
       "4        2417     5  0.034954       84"
      ]
     },
     "execution_count": 28,
     "metadata": {},
     "output_type": "execute_result"
    }
   ],
   "source": [
    "df.head()"
   ]
  },
  {
   "cell_type": "code",
   "execution_count": null,
   "metadata": {},
   "outputs": [],
   "source": []
  },
  {
   "cell_type": "markdown",
   "metadata": {},
   "source": [
    "## Aggregation/Groupby"
   ]
  },
  {
   "cell_type": "code",
   "execution_count": 29,
   "metadata": {},
   "outputs": [
    {
     "data": {
      "text/html": [
       "<div>\n",
       "<style scoped>\n",
       "    .dataframe tbody tr th:only-of-type {\n",
       "        vertical-align: middle;\n",
       "    }\n",
       "\n",
       "    .dataframe tbody tr th {\n",
       "        vertical-align: top;\n",
       "    }\n",
       "\n",
       "    .dataframe thead th {\n",
       "        text-align: right;\n",
       "    }\n",
       "</style>\n",
       "<table border=\"1\" class=\"dataframe\">\n",
       "  <thead>\n",
       "    <tr style=\"text-align: right;\">\n",
       "      <th></th>\n",
       "      <th>population</th>\n",
       "      <th>poverty</th>\n",
       "      <th>pop_pov</th>\n",
       "    </tr>\n",
       "    <tr>\n",
       "      <th>ward</th>\n",
       "      <th></th>\n",
       "      <th></th>\n",
       "      <th></th>\n",
       "    </tr>\n",
       "  </thead>\n",
       "  <tbody>\n",
       "    <tr>\n",
       "      <th>1</th>\n",
       "      <td>16299</td>\n",
       "      <td>1.083872</td>\n",
       "      <td>3964</td>\n",
       "    </tr>\n",
       "    <tr>\n",
       "      <th>2</th>\n",
       "      <td>13994</td>\n",
       "      <td>1.046454</td>\n",
       "      <td>3225</td>\n",
       "    </tr>\n",
       "    <tr>\n",
       "      <th>3</th>\n",
       "      <td>13207</td>\n",
       "      <td>1.199331</td>\n",
       "      <td>3616</td>\n",
       "    </tr>\n",
       "    <tr>\n",
       "      <th>4</th>\n",
       "      <td>12592</td>\n",
       "      <td>1.021021</td>\n",
       "      <td>2698</td>\n",
       "    </tr>\n",
       "    <tr>\n",
       "      <th>5</th>\n",
       "      <td>8429</td>\n",
       "      <td>0.793161</td>\n",
       "      <td>744</td>\n",
       "    </tr>\n",
       "  </tbody>\n",
       "</table>\n",
       "</div>"
      ],
      "text/plain": [
       "      population   poverty  pop_pov\n",
       "ward                               \n",
       "1          16299  1.083872     3964\n",
       "2          13994  1.046454     3225\n",
       "3          13207  1.199331     3616\n",
       "4          12592  1.021021     2698\n",
       "5           8429  0.793161      744"
      ]
     },
     "execution_count": 29,
     "metadata": {},
     "output_type": "execute_result"
    }
   ],
   "source": [
    "df.groupby(by='ward').sum()"
   ]
  },
  {
   "cell_type": "code",
   "execution_count": 30,
   "metadata": {},
   "outputs": [
    {
     "data": {
      "text/html": [
       "<div>\n",
       "<style scoped>\n",
       "    .dataframe tbody tr th:only-of-type {\n",
       "        vertical-align: middle;\n",
       "    }\n",
       "\n",
       "    .dataframe tbody tr th {\n",
       "        vertical-align: top;\n",
       "    }\n",
       "\n",
       "    .dataframe thead th {\n",
       "        text-align: right;\n",
       "    }\n",
       "</style>\n",
       "<table border=\"1\" class=\"dataframe\">\n",
       "  <thead>\n",
       "    <tr style=\"text-align: right;\">\n",
       "      <th></th>\n",
       "      <th>population</th>\n",
       "      <th>pop_pov</th>\n",
       "    </tr>\n",
       "    <tr>\n",
       "      <th>ward</th>\n",
       "      <th></th>\n",
       "      <th></th>\n",
       "    </tr>\n",
       "  </thead>\n",
       "  <tbody>\n",
       "    <tr>\n",
       "      <th>1</th>\n",
       "      <td>16299</td>\n",
       "      <td>3964</td>\n",
       "    </tr>\n",
       "    <tr>\n",
       "      <th>2</th>\n",
       "      <td>13994</td>\n",
       "      <td>3225</td>\n",
       "    </tr>\n",
       "    <tr>\n",
       "      <th>3</th>\n",
       "      <td>13207</td>\n",
       "      <td>3616</td>\n",
       "    </tr>\n",
       "    <tr>\n",
       "      <th>4</th>\n",
       "      <td>12592</td>\n",
       "      <td>2698</td>\n",
       "    </tr>\n",
       "    <tr>\n",
       "      <th>5</th>\n",
       "      <td>8429</td>\n",
       "      <td>744</td>\n",
       "    </tr>\n",
       "  </tbody>\n",
       "</table>\n",
       "</div>"
      ],
      "text/plain": [
       "      population  pop_pov\n",
       "ward                     \n",
       "1          16299     3964\n",
       "2          13994     3225\n",
       "3          13207     3616\n",
       "4          12592     2698\n",
       "5           8429      744"
      ]
     },
     "execution_count": 30,
     "metadata": {},
     "output_type": "execute_result"
    }
   ],
   "source": [
    "df.groupby(by='ward').sum()[['population', 'pop_pov']]"
   ]
  },
  {
   "cell_type": "code",
   "execution_count": 31,
   "metadata": {},
   "outputs": [],
   "source": [
    "ward_df = df.groupby(by='ward').sum()[['population', 'pop_pov']]"
   ]
  },
  {
   "cell_type": "code",
   "execution_count": 32,
   "metadata": {},
   "outputs": [],
   "source": [
    "ward_df['poverty'] = ward_df.pop_pov / ward_df.population"
   ]
  },
  {
   "cell_type": "code",
   "execution_count": 33,
   "metadata": {},
   "outputs": [
    {
     "data": {
      "text/html": [
       "<div>\n",
       "<style scoped>\n",
       "    .dataframe tbody tr th:only-of-type {\n",
       "        vertical-align: middle;\n",
       "    }\n",
       "\n",
       "    .dataframe tbody tr th {\n",
       "        vertical-align: top;\n",
       "    }\n",
       "\n",
       "    .dataframe thead th {\n",
       "        text-align: right;\n",
       "    }\n",
       "</style>\n",
       "<table border=\"1\" class=\"dataframe\">\n",
       "  <thead>\n",
       "    <tr style=\"text-align: right;\">\n",
       "      <th></th>\n",
       "      <th>population</th>\n",
       "      <th>pop_pov</th>\n",
       "      <th>poverty</th>\n",
       "    </tr>\n",
       "    <tr>\n",
       "      <th>ward</th>\n",
       "      <th></th>\n",
       "      <th></th>\n",
       "      <th></th>\n",
       "    </tr>\n",
       "  </thead>\n",
       "  <tbody>\n",
       "    <tr>\n",
       "      <th>1</th>\n",
       "      <td>16299</td>\n",
       "      <td>3964</td>\n",
       "      <td>0.243205</td>\n",
       "    </tr>\n",
       "    <tr>\n",
       "      <th>2</th>\n",
       "      <td>13994</td>\n",
       "      <td>3225</td>\n",
       "      <td>0.230456</td>\n",
       "    </tr>\n",
       "    <tr>\n",
       "      <th>3</th>\n",
       "      <td>13207</td>\n",
       "      <td>3616</td>\n",
       "      <td>0.273794</td>\n",
       "    </tr>\n",
       "    <tr>\n",
       "      <th>4</th>\n",
       "      <td>12592</td>\n",
       "      <td>2698</td>\n",
       "      <td>0.214263</td>\n",
       "    </tr>\n",
       "    <tr>\n",
       "      <th>5</th>\n",
       "      <td>8429</td>\n",
       "      <td>744</td>\n",
       "      <td>0.088267</td>\n",
       "    </tr>\n",
       "  </tbody>\n",
       "</table>\n",
       "</div>"
      ],
      "text/plain": [
       "      population  pop_pov   poverty\n",
       "ward                               \n",
       "1          16299     3964  0.243205\n",
       "2          13994     3225  0.230456\n",
       "3          13207     3616  0.273794\n",
       "4          12592     2698  0.214263\n",
       "5           8429      744  0.088267"
      ]
     },
     "execution_count": 33,
     "metadata": {},
     "output_type": "execute_result"
    }
   ],
   "source": [
    "ward_df.head()"
   ]
  },
  {
   "cell_type": "markdown",
   "metadata": {},
   "source": [
    "## Joins"
   ]
  },
  {
   "cell_type": "code",
   "execution_count": 34,
   "metadata": {},
   "outputs": [
    {
     "data": {
      "text/plain": [
       "Int64Index([1, 2, 3, 4, 5], dtype='int64', name='ward')"
      ]
     },
     "execution_count": 34,
     "metadata": {},
     "output_type": "execute_result"
    }
   ],
   "source": [
    "ward_df.index"
   ]
  },
  {
   "cell_type": "code",
   "execution_count": 35,
   "metadata": {},
   "outputs": [
    {
     "data": {
      "text/html": [
       "<div>\n",
       "<style scoped>\n",
       "    .dataframe tbody tr th:only-of-type {\n",
       "        vertical-align: middle;\n",
       "    }\n",
       "\n",
       "    .dataframe tbody tr th {\n",
       "        vertical-align: top;\n",
       "    }\n",
       "\n",
       "    .dataframe thead th {\n",
       "        text-align: right;\n",
       "    }\n",
       "</style>\n",
       "<table border=\"1\" class=\"dataframe\">\n",
       "  <thead>\n",
       "    <tr style=\"text-align: right;\">\n",
       "      <th></th>\n",
       "      <th>population_x</th>\n",
       "      <th>ward</th>\n",
       "      <th>poverty_x</th>\n",
       "      <th>pop_pov_x</th>\n",
       "      <th>population_y</th>\n",
       "      <th>pop_pov_y</th>\n",
       "      <th>poverty_y</th>\n",
       "    </tr>\n",
       "  </thead>\n",
       "  <tbody>\n",
       "    <tr>\n",
       "      <th>0</th>\n",
       "      <td>2564</td>\n",
       "      <td>1</td>\n",
       "      <td>0.389854</td>\n",
       "      <td>999</td>\n",
       "      <td>16299</td>\n",
       "      <td>3964</td>\n",
       "      <td>0.243205</td>\n",
       "    </tr>\n",
       "    <tr>\n",
       "      <th>1</th>\n",
       "      <td>3153</td>\n",
       "      <td>2</td>\n",
       "      <td>0.073751</td>\n",
       "      <td>232</td>\n",
       "      <td>13994</td>\n",
       "      <td>3225</td>\n",
       "      <td>0.230456</td>\n",
       "    </tr>\n",
       "    <tr>\n",
       "      <th>2</th>\n",
       "      <td>2934</td>\n",
       "      <td>3</td>\n",
       "      <td>0.195234</td>\n",
       "      <td>572</td>\n",
       "      <td>13207</td>\n",
       "      <td>3616</td>\n",
       "      <td>0.273794</td>\n",
       "    </tr>\n",
       "    <tr>\n",
       "      <th>3</th>\n",
       "      <td>259</td>\n",
       "      <td>4</td>\n",
       "      <td>0.158073</td>\n",
       "      <td>40</td>\n",
       "      <td>12592</td>\n",
       "      <td>2698</td>\n",
       "      <td>0.214263</td>\n",
       "    </tr>\n",
       "    <tr>\n",
       "      <th>4</th>\n",
       "      <td>2417</td>\n",
       "      <td>5</td>\n",
       "      <td>0.034954</td>\n",
       "      <td>84</td>\n",
       "      <td>8429</td>\n",
       "      <td>744</td>\n",
       "      <td>0.088267</td>\n",
       "    </tr>\n",
       "    <tr>\n",
       "      <th>5</th>\n",
       "      <td>596</td>\n",
       "      <td>1</td>\n",
       "      <td>0.021769</td>\n",
       "      <td>12</td>\n",
       "      <td>16299</td>\n",
       "      <td>3964</td>\n",
       "      <td>0.243205</td>\n",
       "    </tr>\n",
       "    <tr>\n",
       "      <th>6</th>\n",
       "      <td>4175</td>\n",
       "      <td>2</td>\n",
       "      <td>0.376939</td>\n",
       "      <td>1573</td>\n",
       "      <td>13994</td>\n",
       "      <td>3225</td>\n",
       "      <td>0.230456</td>\n",
       "    </tr>\n",
       "    <tr>\n",
       "      <th>7</th>\n",
       "      <td>4554</td>\n",
       "      <td>3</td>\n",
       "      <td>0.354016</td>\n",
       "      <td>1612</td>\n",
       "      <td>13207</td>\n",
       "      <td>3616</td>\n",
       "      <td>0.273794</td>\n",
       "    </tr>\n",
       "    <tr>\n",
       "      <th>8</th>\n",
       "      <td>1040</td>\n",
       "      <td>4</td>\n",
       "      <td>0.206584</td>\n",
       "      <td>214</td>\n",
       "      <td>12592</td>\n",
       "      <td>2698</td>\n",
       "      <td>0.214263</td>\n",
       "    </tr>\n",
       "    <tr>\n",
       "      <th>9</th>\n",
       "      <td>3571</td>\n",
       "      <td>5</td>\n",
       "      <td>0.018381</td>\n",
       "      <td>65</td>\n",
       "      <td>8429</td>\n",
       "      <td>744</td>\n",
       "      <td>0.088267</td>\n",
       "    </tr>\n",
       "    <tr>\n",
       "      <th>10</th>\n",
       "      <td>4563</td>\n",
       "      <td>1</td>\n",
       "      <td>0.213420</td>\n",
       "      <td>973</td>\n",
       "      <td>16299</td>\n",
       "      <td>3964</td>\n",
       "      <td>0.243205</td>\n",
       "    </tr>\n",
       "    <tr>\n",
       "      <th>11</th>\n",
       "      <td>3337</td>\n",
       "      <td>2</td>\n",
       "      <td>0.246030</td>\n",
       "      <td>821</td>\n",
       "      <td>13994</td>\n",
       "      <td>3225</td>\n",
       "      <td>0.230456</td>\n",
       "    </tr>\n",
       "    <tr>\n",
       "      <th>12</th>\n",
       "      <td>1288</td>\n",
       "      <td>3</td>\n",
       "      <td>0.041401</td>\n",
       "      <td>53</td>\n",
       "      <td>13207</td>\n",
       "      <td>3616</td>\n",
       "      <td>0.273794</td>\n",
       "    </tr>\n",
       "    <tr>\n",
       "      <th>13</th>\n",
       "      <td>4533</td>\n",
       "      <td>4</td>\n",
       "      <td>0.136050</td>\n",
       "      <td>616</td>\n",
       "      <td>12592</td>\n",
       "      <td>2698</td>\n",
       "      <td>0.214263</td>\n",
       "    </tr>\n",
       "    <tr>\n",
       "      <th>14</th>\n",
       "      <td>498</td>\n",
       "      <td>5</td>\n",
       "      <td>0.332646</td>\n",
       "      <td>165</td>\n",
       "      <td>8429</td>\n",
       "      <td>744</td>\n",
       "      <td>0.088267</td>\n",
       "    </tr>\n",
       "    <tr>\n",
       "      <th>15</th>\n",
       "      <td>4841</td>\n",
       "      <td>1</td>\n",
       "      <td>0.242276</td>\n",
       "      <td>1172</td>\n",
       "      <td>16299</td>\n",
       "      <td>3964</td>\n",
       "      <td>0.243205</td>\n",
       "    </tr>\n",
       "    <tr>\n",
       "      <th>16</th>\n",
       "      <td>1750</td>\n",
       "      <td>2</td>\n",
       "      <td>0.280375</td>\n",
       "      <td>490</td>\n",
       "      <td>13994</td>\n",
       "      <td>3225</td>\n",
       "      <td>0.230456</td>\n",
       "    </tr>\n",
       "    <tr>\n",
       "      <th>17</th>\n",
       "      <td>2030</td>\n",
       "      <td>3</td>\n",
       "      <td>0.220479</td>\n",
       "      <td>447</td>\n",
       "      <td>13207</td>\n",
       "      <td>3616</td>\n",
       "      <td>0.273794</td>\n",
       "    </tr>\n",
       "    <tr>\n",
       "      <th>18</th>\n",
       "      <td>4197</td>\n",
       "      <td>4</td>\n",
       "      <td>0.302846</td>\n",
       "      <td>1271</td>\n",
       "      <td>12592</td>\n",
       "      <td>2698</td>\n",
       "      <td>0.214263</td>\n",
       "    </tr>\n",
       "    <tr>\n",
       "      <th>19</th>\n",
       "      <td>1394</td>\n",
       "      <td>5</td>\n",
       "      <td>0.245866</td>\n",
       "      <td>342</td>\n",
       "      <td>8429</td>\n",
       "      <td>744</td>\n",
       "      <td>0.088267</td>\n",
       "    </tr>\n",
       "    <tr>\n",
       "      <th>20</th>\n",
       "      <td>3735</td>\n",
       "      <td>1</td>\n",
       "      <td>0.216553</td>\n",
       "      <td>808</td>\n",
       "      <td>16299</td>\n",
       "      <td>3964</td>\n",
       "      <td>0.243205</td>\n",
       "    </tr>\n",
       "    <tr>\n",
       "      <th>21</th>\n",
       "      <td>1579</td>\n",
       "      <td>2</td>\n",
       "      <td>0.069359</td>\n",
       "      <td>109</td>\n",
       "      <td>13994</td>\n",
       "      <td>3225</td>\n",
       "      <td>0.230456</td>\n",
       "    </tr>\n",
       "    <tr>\n",
       "      <th>22</th>\n",
       "      <td>2401</td>\n",
       "      <td>3</td>\n",
       "      <td>0.388201</td>\n",
       "      <td>932</td>\n",
       "      <td>13207</td>\n",
       "      <td>3616</td>\n",
       "      <td>0.273794</td>\n",
       "    </tr>\n",
       "    <tr>\n",
       "      <th>23</th>\n",
       "      <td>2563</td>\n",
       "      <td>4</td>\n",
       "      <td>0.217469</td>\n",
       "      <td>557</td>\n",
       "      <td>12592</td>\n",
       "      <td>2698</td>\n",
       "      <td>0.214263</td>\n",
       "    </tr>\n",
       "    <tr>\n",
       "      <th>24</th>\n",
       "      <td>549</td>\n",
       "      <td>5</td>\n",
       "      <td>0.161314</td>\n",
       "      <td>88</td>\n",
       "      <td>8429</td>\n",
       "      <td>744</td>\n",
       "      <td>0.088267</td>\n",
       "    </tr>\n",
       "  </tbody>\n",
       "</table>\n",
       "</div>"
      ],
      "text/plain": [
       "    population_x  ward  poverty_x  pop_pov_x  population_y  pop_pov_y  \\\n",
       "0           2564     1   0.389854        999         16299       3964   \n",
       "1           3153     2   0.073751        232         13994       3225   \n",
       "2           2934     3   0.195234        572         13207       3616   \n",
       "3            259     4   0.158073         40         12592       2698   \n",
       "4           2417     5   0.034954         84          8429        744   \n",
       "5            596     1   0.021769         12         16299       3964   \n",
       "6           4175     2   0.376939       1573         13994       3225   \n",
       "7           4554     3   0.354016       1612         13207       3616   \n",
       "8           1040     4   0.206584        214         12592       2698   \n",
       "9           3571     5   0.018381         65          8429        744   \n",
       "10          4563     1   0.213420        973         16299       3964   \n",
       "11          3337     2   0.246030        821         13994       3225   \n",
       "12          1288     3   0.041401         53         13207       3616   \n",
       "13          4533     4   0.136050        616         12592       2698   \n",
       "14           498     5   0.332646        165          8429        744   \n",
       "15          4841     1   0.242276       1172         16299       3964   \n",
       "16          1750     2   0.280375        490         13994       3225   \n",
       "17          2030     3   0.220479        447         13207       3616   \n",
       "18          4197     4   0.302846       1271         12592       2698   \n",
       "19          1394     5   0.245866        342          8429        744   \n",
       "20          3735     1   0.216553        808         16299       3964   \n",
       "21          1579     2   0.069359        109         13994       3225   \n",
       "22          2401     3   0.388201        932         13207       3616   \n",
       "23          2563     4   0.217469        557         12592       2698   \n",
       "24           549     5   0.161314         88          8429        744   \n",
       "\n",
       "    poverty_y  \n",
       "0    0.243205  \n",
       "1    0.230456  \n",
       "2    0.273794  \n",
       "3    0.214263  \n",
       "4    0.088267  \n",
       "5    0.243205  \n",
       "6    0.230456  \n",
       "7    0.273794  \n",
       "8    0.214263  \n",
       "9    0.088267  \n",
       "10   0.243205  \n",
       "11   0.230456  \n",
       "12   0.273794  \n",
       "13   0.214263  \n",
       "14   0.088267  \n",
       "15   0.243205  \n",
       "16   0.230456  \n",
       "17   0.273794  \n",
       "18   0.214263  \n",
       "19   0.088267  \n",
       "20   0.243205  \n",
       "21   0.230456  \n",
       "22   0.273794  \n",
       "23   0.214263  \n",
       "24   0.088267  "
      ]
     },
     "execution_count": 35,
     "metadata": {},
     "output_type": "execute_result"
    }
   ],
   "source": [
    "df.merge(ward_df, how='left', on='ward')"
   ]
  },
  {
   "cell_type": "code",
   "execution_count": 37,
   "metadata": {},
   "outputs": [
    {
     "data": {
      "text/html": [
       "<div>\n",
       "<style scoped>\n",
       "    .dataframe tbody tr th:only-of-type {\n",
       "        vertical-align: middle;\n",
       "    }\n",
       "\n",
       "    .dataframe tbody tr th {\n",
       "        vertical-align: top;\n",
       "    }\n",
       "\n",
       "    .dataframe thead th {\n",
       "        text-align: right;\n",
       "    }\n",
       "</style>\n",
       "<table border=\"1\" class=\"dataframe\">\n",
       "  <thead>\n",
       "    <tr style=\"text-align: right;\">\n",
       "      <th></th>\n",
       "      <th>population_x</th>\n",
       "      <th>ward</th>\n",
       "      <th>poverty_x</th>\n",
       "      <th>pop_pov_x</th>\n",
       "      <th>population_y</th>\n",
       "      <th>pop_pov_y</th>\n",
       "      <th>poverty_y</th>\n",
       "      <th>population</th>\n",
       "      <th>pop_pov</th>\n",
       "      <th>poverty</th>\n",
       "    </tr>\n",
       "  </thead>\n",
       "  <tbody>\n",
       "    <tr>\n",
       "      <th>0</th>\n",
       "      <td>2564</td>\n",
       "      <td>1</td>\n",
       "      <td>0.389854</td>\n",
       "      <td>999</td>\n",
       "      <td>16299</td>\n",
       "      <td>3964</td>\n",
       "      <td>0.243205</td>\n",
       "      <td>16299</td>\n",
       "      <td>3964</td>\n",
       "      <td>0.243205</td>\n",
       "    </tr>\n",
       "    <tr>\n",
       "      <th>1</th>\n",
       "      <td>596</td>\n",
       "      <td>1</td>\n",
       "      <td>0.021769</td>\n",
       "      <td>12</td>\n",
       "      <td>16299</td>\n",
       "      <td>3964</td>\n",
       "      <td>0.243205</td>\n",
       "      <td>16299</td>\n",
       "      <td>3964</td>\n",
       "      <td>0.243205</td>\n",
       "    </tr>\n",
       "    <tr>\n",
       "      <th>2</th>\n",
       "      <td>4563</td>\n",
       "      <td>1</td>\n",
       "      <td>0.213420</td>\n",
       "      <td>973</td>\n",
       "      <td>16299</td>\n",
       "      <td>3964</td>\n",
       "      <td>0.243205</td>\n",
       "      <td>16299</td>\n",
       "      <td>3964</td>\n",
       "      <td>0.243205</td>\n",
       "    </tr>\n",
       "    <tr>\n",
       "      <th>3</th>\n",
       "      <td>4841</td>\n",
       "      <td>1</td>\n",
       "      <td>0.242276</td>\n",
       "      <td>1172</td>\n",
       "      <td>16299</td>\n",
       "      <td>3964</td>\n",
       "      <td>0.243205</td>\n",
       "      <td>16299</td>\n",
       "      <td>3964</td>\n",
       "      <td>0.243205</td>\n",
       "    </tr>\n",
       "    <tr>\n",
       "      <th>4</th>\n",
       "      <td>3735</td>\n",
       "      <td>1</td>\n",
       "      <td>0.216553</td>\n",
       "      <td>808</td>\n",
       "      <td>16299</td>\n",
       "      <td>3964</td>\n",
       "      <td>0.243205</td>\n",
       "      <td>16299</td>\n",
       "      <td>3964</td>\n",
       "      <td>0.243205</td>\n",
       "    </tr>\n",
       "    <tr>\n",
       "      <th>5</th>\n",
       "      <td>3153</td>\n",
       "      <td>2</td>\n",
       "      <td>0.073751</td>\n",
       "      <td>232</td>\n",
       "      <td>13994</td>\n",
       "      <td>3225</td>\n",
       "      <td>0.230456</td>\n",
       "      <td>13994</td>\n",
       "      <td>3225</td>\n",
       "      <td>0.230456</td>\n",
       "    </tr>\n",
       "    <tr>\n",
       "      <th>6</th>\n",
       "      <td>4175</td>\n",
       "      <td>2</td>\n",
       "      <td>0.376939</td>\n",
       "      <td>1573</td>\n",
       "      <td>13994</td>\n",
       "      <td>3225</td>\n",
       "      <td>0.230456</td>\n",
       "      <td>13994</td>\n",
       "      <td>3225</td>\n",
       "      <td>0.230456</td>\n",
       "    </tr>\n",
       "    <tr>\n",
       "      <th>7</th>\n",
       "      <td>3337</td>\n",
       "      <td>2</td>\n",
       "      <td>0.246030</td>\n",
       "      <td>821</td>\n",
       "      <td>13994</td>\n",
       "      <td>3225</td>\n",
       "      <td>0.230456</td>\n",
       "      <td>13994</td>\n",
       "      <td>3225</td>\n",
       "      <td>0.230456</td>\n",
       "    </tr>\n",
       "    <tr>\n",
       "      <th>8</th>\n",
       "      <td>1750</td>\n",
       "      <td>2</td>\n",
       "      <td>0.280375</td>\n",
       "      <td>490</td>\n",
       "      <td>13994</td>\n",
       "      <td>3225</td>\n",
       "      <td>0.230456</td>\n",
       "      <td>13994</td>\n",
       "      <td>3225</td>\n",
       "      <td>0.230456</td>\n",
       "    </tr>\n",
       "    <tr>\n",
       "      <th>9</th>\n",
       "      <td>1579</td>\n",
       "      <td>2</td>\n",
       "      <td>0.069359</td>\n",
       "      <td>109</td>\n",
       "      <td>13994</td>\n",
       "      <td>3225</td>\n",
       "      <td>0.230456</td>\n",
       "      <td>13994</td>\n",
       "      <td>3225</td>\n",
       "      <td>0.230456</td>\n",
       "    </tr>\n",
       "    <tr>\n",
       "      <th>10</th>\n",
       "      <td>2934</td>\n",
       "      <td>3</td>\n",
       "      <td>0.195234</td>\n",
       "      <td>572</td>\n",
       "      <td>13207</td>\n",
       "      <td>3616</td>\n",
       "      <td>0.273794</td>\n",
       "      <td>13207</td>\n",
       "      <td>3616</td>\n",
       "      <td>0.273794</td>\n",
       "    </tr>\n",
       "    <tr>\n",
       "      <th>11</th>\n",
       "      <td>4554</td>\n",
       "      <td>3</td>\n",
       "      <td>0.354016</td>\n",
       "      <td>1612</td>\n",
       "      <td>13207</td>\n",
       "      <td>3616</td>\n",
       "      <td>0.273794</td>\n",
       "      <td>13207</td>\n",
       "      <td>3616</td>\n",
       "      <td>0.273794</td>\n",
       "    </tr>\n",
       "    <tr>\n",
       "      <th>12</th>\n",
       "      <td>1288</td>\n",
       "      <td>3</td>\n",
       "      <td>0.041401</td>\n",
       "      <td>53</td>\n",
       "      <td>13207</td>\n",
       "      <td>3616</td>\n",
       "      <td>0.273794</td>\n",
       "      <td>13207</td>\n",
       "      <td>3616</td>\n",
       "      <td>0.273794</td>\n",
       "    </tr>\n",
       "    <tr>\n",
       "      <th>13</th>\n",
       "      <td>2030</td>\n",
       "      <td>3</td>\n",
       "      <td>0.220479</td>\n",
       "      <td>447</td>\n",
       "      <td>13207</td>\n",
       "      <td>3616</td>\n",
       "      <td>0.273794</td>\n",
       "      <td>13207</td>\n",
       "      <td>3616</td>\n",
       "      <td>0.273794</td>\n",
       "    </tr>\n",
       "    <tr>\n",
       "      <th>14</th>\n",
       "      <td>2401</td>\n",
       "      <td>3</td>\n",
       "      <td>0.388201</td>\n",
       "      <td>932</td>\n",
       "      <td>13207</td>\n",
       "      <td>3616</td>\n",
       "      <td>0.273794</td>\n",
       "      <td>13207</td>\n",
       "      <td>3616</td>\n",
       "      <td>0.273794</td>\n",
       "    </tr>\n",
       "    <tr>\n",
       "      <th>15</th>\n",
       "      <td>259</td>\n",
       "      <td>4</td>\n",
       "      <td>0.158073</td>\n",
       "      <td>40</td>\n",
       "      <td>12592</td>\n",
       "      <td>2698</td>\n",
       "      <td>0.214263</td>\n",
       "      <td>12592</td>\n",
       "      <td>2698</td>\n",
       "      <td>0.214263</td>\n",
       "    </tr>\n",
       "    <tr>\n",
       "      <th>16</th>\n",
       "      <td>1040</td>\n",
       "      <td>4</td>\n",
       "      <td>0.206584</td>\n",
       "      <td>214</td>\n",
       "      <td>12592</td>\n",
       "      <td>2698</td>\n",
       "      <td>0.214263</td>\n",
       "      <td>12592</td>\n",
       "      <td>2698</td>\n",
       "      <td>0.214263</td>\n",
       "    </tr>\n",
       "    <tr>\n",
       "      <th>17</th>\n",
       "      <td>4533</td>\n",
       "      <td>4</td>\n",
       "      <td>0.136050</td>\n",
       "      <td>616</td>\n",
       "      <td>12592</td>\n",
       "      <td>2698</td>\n",
       "      <td>0.214263</td>\n",
       "      <td>12592</td>\n",
       "      <td>2698</td>\n",
       "      <td>0.214263</td>\n",
       "    </tr>\n",
       "    <tr>\n",
       "      <th>18</th>\n",
       "      <td>4197</td>\n",
       "      <td>4</td>\n",
       "      <td>0.302846</td>\n",
       "      <td>1271</td>\n",
       "      <td>12592</td>\n",
       "      <td>2698</td>\n",
       "      <td>0.214263</td>\n",
       "      <td>12592</td>\n",
       "      <td>2698</td>\n",
       "      <td>0.214263</td>\n",
       "    </tr>\n",
       "    <tr>\n",
       "      <th>19</th>\n",
       "      <td>2563</td>\n",
       "      <td>4</td>\n",
       "      <td>0.217469</td>\n",
       "      <td>557</td>\n",
       "      <td>12592</td>\n",
       "      <td>2698</td>\n",
       "      <td>0.214263</td>\n",
       "      <td>12592</td>\n",
       "      <td>2698</td>\n",
       "      <td>0.214263</td>\n",
       "    </tr>\n",
       "    <tr>\n",
       "      <th>20</th>\n",
       "      <td>2417</td>\n",
       "      <td>5</td>\n",
       "      <td>0.034954</td>\n",
       "      <td>84</td>\n",
       "      <td>8429</td>\n",
       "      <td>744</td>\n",
       "      <td>0.088267</td>\n",
       "      <td>8429</td>\n",
       "      <td>744</td>\n",
       "      <td>0.088267</td>\n",
       "    </tr>\n",
       "    <tr>\n",
       "      <th>21</th>\n",
       "      <td>3571</td>\n",
       "      <td>5</td>\n",
       "      <td>0.018381</td>\n",
       "      <td>65</td>\n",
       "      <td>8429</td>\n",
       "      <td>744</td>\n",
       "      <td>0.088267</td>\n",
       "      <td>8429</td>\n",
       "      <td>744</td>\n",
       "      <td>0.088267</td>\n",
       "    </tr>\n",
       "    <tr>\n",
       "      <th>22</th>\n",
       "      <td>498</td>\n",
       "      <td>5</td>\n",
       "      <td>0.332646</td>\n",
       "      <td>165</td>\n",
       "      <td>8429</td>\n",
       "      <td>744</td>\n",
       "      <td>0.088267</td>\n",
       "      <td>8429</td>\n",
       "      <td>744</td>\n",
       "      <td>0.088267</td>\n",
       "    </tr>\n",
       "    <tr>\n",
       "      <th>23</th>\n",
       "      <td>1394</td>\n",
       "      <td>5</td>\n",
       "      <td>0.245866</td>\n",
       "      <td>342</td>\n",
       "      <td>8429</td>\n",
       "      <td>744</td>\n",
       "      <td>0.088267</td>\n",
       "      <td>8429</td>\n",
       "      <td>744</td>\n",
       "      <td>0.088267</td>\n",
       "    </tr>\n",
       "    <tr>\n",
       "      <th>24</th>\n",
       "      <td>549</td>\n",
       "      <td>5</td>\n",
       "      <td>0.161314</td>\n",
       "      <td>88</td>\n",
       "      <td>8429</td>\n",
       "      <td>744</td>\n",
       "      <td>0.088267</td>\n",
       "      <td>8429</td>\n",
       "      <td>744</td>\n",
       "      <td>0.088267</td>\n",
       "    </tr>\n",
       "  </tbody>\n",
       "</table>\n",
       "</div>"
      ],
      "text/plain": [
       "    population_x  ward  poverty_x  pop_pov_x  population_y  pop_pov_y  \\\n",
       "0           2564     1   0.389854        999         16299       3964   \n",
       "1            596     1   0.021769         12         16299       3964   \n",
       "2           4563     1   0.213420        973         16299       3964   \n",
       "3           4841     1   0.242276       1172         16299       3964   \n",
       "4           3735     1   0.216553        808         16299       3964   \n",
       "5           3153     2   0.073751        232         13994       3225   \n",
       "6           4175     2   0.376939       1573         13994       3225   \n",
       "7           3337     2   0.246030        821         13994       3225   \n",
       "8           1750     2   0.280375        490         13994       3225   \n",
       "9           1579     2   0.069359        109         13994       3225   \n",
       "10          2934     3   0.195234        572         13207       3616   \n",
       "11          4554     3   0.354016       1612         13207       3616   \n",
       "12          1288     3   0.041401         53         13207       3616   \n",
       "13          2030     3   0.220479        447         13207       3616   \n",
       "14          2401     3   0.388201        932         13207       3616   \n",
       "15           259     4   0.158073         40         12592       2698   \n",
       "16          1040     4   0.206584        214         12592       2698   \n",
       "17          4533     4   0.136050        616         12592       2698   \n",
       "18          4197     4   0.302846       1271         12592       2698   \n",
       "19          2563     4   0.217469        557         12592       2698   \n",
       "20          2417     5   0.034954         84          8429        744   \n",
       "21          3571     5   0.018381         65          8429        744   \n",
       "22           498     5   0.332646        165          8429        744   \n",
       "23          1394     5   0.245866        342          8429        744   \n",
       "24           549     5   0.161314         88          8429        744   \n",
       "\n",
       "    poverty_y  population  pop_pov   poverty  \n",
       "0    0.243205       16299     3964  0.243205  \n",
       "1    0.243205       16299     3964  0.243205  \n",
       "2    0.243205       16299     3964  0.243205  \n",
       "3    0.243205       16299     3964  0.243205  \n",
       "4    0.243205       16299     3964  0.243205  \n",
       "5    0.230456       13994     3225  0.230456  \n",
       "6    0.230456       13994     3225  0.230456  \n",
       "7    0.230456       13994     3225  0.230456  \n",
       "8    0.230456       13994     3225  0.230456  \n",
       "9    0.230456       13994     3225  0.230456  \n",
       "10   0.273794       13207     3616  0.273794  \n",
       "11   0.273794       13207     3616  0.273794  \n",
       "12   0.273794       13207     3616  0.273794  \n",
       "13   0.273794       13207     3616  0.273794  \n",
       "14   0.273794       13207     3616  0.273794  \n",
       "15   0.214263       12592     2698  0.214263  \n",
       "16   0.214263       12592     2698  0.214263  \n",
       "17   0.214263       12592     2698  0.214263  \n",
       "18   0.214263       12592     2698  0.214263  \n",
       "19   0.214263       12592     2698  0.214263  \n",
       "20   0.088267        8429      744  0.088267  \n",
       "21   0.088267        8429      744  0.088267  \n",
       "22   0.088267        8429      744  0.088267  \n",
       "23   0.088267        8429      744  0.088267  \n",
       "24   0.088267        8429      744  0.088267  "
      ]
     },
     "execution_count": 37,
     "metadata": {},
     "output_type": "execute_result"
    }
   ],
   "source": [
    "df.merge(ward_df, how='right', on='ward')"
   ]
  },
  {
   "cell_type": "code",
   "execution_count": 36,
   "metadata": {},
   "outputs": [],
   "source": [
    "df = df.merge(ward_df, how='left', on='ward')"
   ]
  },
  {
   "cell_type": "code",
   "execution_count": null,
   "metadata": {},
   "outputs": [],
   "source": [
    "names = df.columns"
   ]
  },
  {
   "cell_type": "code",
   "execution_count": null,
   "metadata": {},
   "outputs": [],
   "source": [
    "new_names = [name.replace(\"_y\", \"_ward\") for name in names]\n",
    "df.columns = new_names\n",
    "df.head()"
   ]
  },
  {
   "cell_type": "code",
   "execution_count": null,
   "metadata": {
    "lines_to_next_cell": 2
   },
   "outputs": [],
   "source": [
    "df[df.poverty_x > df.poverty_ward]"
   ]
  },
  {
   "cell_type": "markdown",
   "metadata": {},
   "source": [
    "<div class=\"alert alert-success\" style=\"font-size:120%\">\n",
    "<b>Exercise</b>: <br>\n",
    "Which ward has the highest poverty rate?\n",
    "</div>"
   ]
  },
  {
   "cell_type": "code",
   "execution_count": null,
   "metadata": {},
   "outputs": [],
   "source": [
    "# %load solutions/120_1.py"
   ]
  },
  {
   "cell_type": "markdown",
   "metadata": {},
   "source": [
    "<div class=\"alert alert-success\" style=\"font-size:120%\">\n",
    "<b>Exercise</b>: <br>\n",
    "Which tract the highest poverty rate as a percentage of its ward's poverty rate?\n",
    "</div>"
   ]
  },
  {
   "cell_type": "code",
   "execution_count": null,
   "metadata": {},
   "outputs": [],
   "source": [
    "# %load solutions/120_2.py"
   ]
  },
  {
   "cell_type": "markdown",
   "metadata": {},
   "source": [
    "## Dealing with *real data*"
   ]
  },
  {
   "cell_type": "code",
   "execution_count": null,
   "metadata": {},
   "outputs": [],
   "source": [
    "data = pandas.read_csv('data/CAINC1__ALL_STATES_1969_2017.csv', encoding='latin-1', \n",
    "                      skipfooter=3, engine='python')"
   ]
  },
  {
   "cell_type": "code",
   "execution_count": null,
   "metadata": {},
   "outputs": [],
   "source": [
    "data.shape"
   ]
  },
  {
   "cell_type": "code",
   "execution_count": null,
   "metadata": {},
   "outputs": [],
   "source": [
    "data.head()"
   ]
  },
  {
   "cell_type": "code",
   "execution_count": null,
   "metadata": {},
   "outputs": [],
   "source": [
    "pandas.set_option('display.max_columns', 500)"
   ]
  },
  {
   "cell_type": "code",
   "execution_count": null,
   "metadata": {},
   "outputs": [],
   "source": [
    "data.head()"
   ]
  },
  {
   "cell_type": "code",
   "execution_count": null,
   "metadata": {},
   "outputs": [],
   "source": [
    "data.tail(10)"
   ]
  },
  {
   "cell_type": "code",
   "execution_count": null,
   "metadata": {},
   "outputs": [],
   "source": [
    "data.columns"
   ]
  },
  {
   "cell_type": "code",
   "execution_count": null,
   "metadata": {},
   "outputs": [],
   "source": [
    "data['1969']"
   ]
  },
  {
   "cell_type": "code",
   "execution_count": null,
   "metadata": {},
   "outputs": [],
   "source": [
    "data['1969'].sort_values()"
   ]
  },
  {
   "cell_type": "markdown",
   "metadata": {},
   "source": [
    "so there are undisclosed values in the cases of `(NA)`"
   ]
  },
  {
   "cell_type": "code",
   "execution_count": null,
   "metadata": {},
   "outputs": [],
   "source": [
    "data.isna().sum() # so no na values in the numpy / pandas sense"
   ]
  },
  {
   "cell_type": "code",
   "execution_count": null,
   "metadata": {},
   "outputs": [],
   "source": [
    "data1 = data.replace(\"(NA)\", 0)\n",
    "data1['1969'] = data1['1969'].astype(int)"
   ]
  },
  {
   "cell_type": "code",
   "execution_count": null,
   "metadata": {},
   "outputs": [],
   "source": [
    "data1['1969'].sort_values()"
   ]
  },
  {
   "cell_type": "code",
   "execution_count": null,
   "metadata": {},
   "outputs": [],
   "source": [
    "for year in range(1969, 2018):\n",
    "    print(year, data[data[str(year)]=='(NA)'].shape)"
   ]
  },
  {
   "cell_type": "markdown",
   "metadata": {},
   "source": [
    "## subsetting"
   ]
  },
  {
   "cell_type": "code",
   "execution_count": null,
   "metadata": {},
   "outputs": [],
   "source": [
    "small = data[data.LineCode.isin( [2, 3] )]"
   ]
  },
  {
   "cell_type": "code",
   "execution_count": null,
   "metadata": {},
   "outputs": [],
   "source": [
    "small.shape"
   ]
  },
  {
   "cell_type": "code",
   "execution_count": null,
   "metadata": {},
   "outputs": [],
   "source": [
    "data.shape"
   ]
  },
  {
   "cell_type": "code",
   "execution_count": null,
   "metadata": {},
   "outputs": [],
   "source": [
    "small.head()"
   ]
  },
  {
   "cell_type": "code",
   "execution_count": null,
   "metadata": {},
   "outputs": [],
   "source": [
    "for year in range(1969, 2018):\n",
    "    small = small[small[str(year)] != \"(NA)\"] #drop all records with NA"
   ]
  },
  {
   "cell_type": "code",
   "execution_count": null,
   "metadata": {},
   "outputs": [],
   "source": [
    "small.shape"
   ]
  },
  {
   "cell_type": "code",
   "execution_count": null,
   "metadata": {},
   "outputs": [],
   "source": [
    "small.head(20)"
   ]
  },
  {
   "cell_type": "code",
   "execution_count": null,
   "metadata": {},
   "outputs": [],
   "source": [
    "small['1969']"
   ]
  },
  {
   "cell_type": "code",
   "execution_count": null,
   "metadata": {},
   "outputs": [],
   "source": [
    "convert_dict = dict([(str(year), int) for year in range (1969, 2018)])"
   ]
  },
  {
   "cell_type": "code",
   "execution_count": null,
   "metadata": {},
   "outputs": [],
   "source": [
    "small = small.astype(convert_dict)"
   ]
  },
  {
   "cell_type": "code",
   "execution_count": null,
   "metadata": {},
   "outputs": [],
   "source": [
    "small['1969']"
   ]
  },
  {
   "cell_type": "code",
   "execution_count": null,
   "metadata": {},
   "outputs": [],
   "source": [
    "small['2017']"
   ]
  },
  {
   "cell_type": "code",
   "execution_count": null,
   "metadata": {},
   "outputs": [],
   "source": [
    "geofips = pandas.unique(small.GeoFIPS)"
   ]
  },
  {
   "cell_type": "code",
   "execution_count": null,
   "metadata": {},
   "outputs": [],
   "source": [
    "geofips"
   ]
  },
  {
   "cell_type": "code",
   "execution_count": null,
   "metadata": {},
   "outputs": [],
   "source": [
    "geofips.shape"
   ]
  },
  {
   "cell_type": "code",
   "execution_count": null,
   "metadata": {},
   "outputs": [],
   "source": [
    "small['GeoFIPS'] = [fips.replace(\"\\\"\", \"\").strip() for fips in small.GeoFIPS]"
   ]
  },
  {
   "cell_type": "code",
   "execution_count": null,
   "metadata": {},
   "outputs": [],
   "source": [
    "geofips = pandas.unique(small.GeoFIPS)"
   ]
  },
  {
   "cell_type": "code",
   "execution_count": null,
   "metadata": {},
   "outputs": [],
   "source": [
    "geofips"
   ]
  },
  {
   "cell_type": "code",
   "execution_count": null,
   "metadata": {},
   "outputs": [],
   "source": [
    "pc_inc = small[small.LineCode==3]"
   ]
  },
  {
   "cell_type": "code",
   "execution_count": null,
   "metadata": {},
   "outputs": [],
   "source": [
    "pc_inc.shape"
   ]
  },
  {
   "cell_type": "code",
   "execution_count": null,
   "metadata": {},
   "outputs": [],
   "source": [
    "pc_inc.head()"
   ]
  },
  {
   "cell_type": "code",
   "execution_count": null,
   "metadata": {},
   "outputs": [],
   "source": [
    "pc_inc.max()"
   ]
  },
  {
   "cell_type": "code",
   "execution_count": null,
   "metadata": {},
   "outputs": [],
   "source": [
    "cid_1969 = pc_inc.columns.get_loc('1969')\n",
    "cid_1969"
   ]
  },
  {
   "cell_type": "code",
   "execution_count": null,
   "metadata": {},
   "outputs": [],
   "source": [
    "pc_inc.iloc[:,8]"
   ]
  },
  {
   "cell_type": "code",
   "execution_count": null,
   "metadata": {},
   "outputs": [],
   "source": [
    "pc_inc.iloc[:, 8:20]"
   ]
  },
  {
   "cell_type": "code",
   "execution_count": null,
   "metadata": {},
   "outputs": [],
   "source": [
    "pc_inc.iloc[:, 8:].idxmax(axis=0) "
   ]
  },
  {
   "cell_type": "code",
   "execution_count": null,
   "metadata": {},
   "outputs": [],
   "source": [
    "max_ids = pc_inc.iloc[:, 8:].idxmax() \n",
    "pc_inc.loc[max_ids]"
   ]
  },
  {
   "cell_type": "code",
   "execution_count": null,
   "metadata": {},
   "outputs": [],
   "source": [
    "for y, max_id in enumerate(max_ids):\n",
    "    year = y + 1969\n",
    "    name = pc_inc.loc[max_id].GeoName\n",
    "    pci = pc_inc.loc[max_id, str(year)]\n",
    "    print(year, pci, name)\n",
    "    "
   ]
  },
  {
   "cell_type": "markdown",
   "metadata": {},
   "source": [
    "<div class=\"alert alert-success\" style=\"font-size:120%\">\n",
    "<b>Exercise</b>: <br>\n",
    "Identify the area with the lowest per-capita income each year.\n",
    "</div>"
   ]
  },
  {
   "cell_type": "code",
   "execution_count": null,
   "metadata": {},
   "outputs": [],
   "source": [
    "min_ids = pc_inc.iloc[:, 8:].idxmin() \n",
    "for y, min_id in enumerate(min_ids):\n",
    "    year = y + 1969\n",
    "    name = pc_inc.loc[min_id].GeoName\n",
    "    pci = pc_inc.loc[min_id, str(year)]\n",
    "    print(year, pci, name)"
   ]
  },
  {
   "cell_type": "markdown",
   "metadata": {},
   "source": [
    "<div class=\"alert alert-success\" style=\"font-size:120%\">\n",
    "<b>Exercise</b>: <br>\n",
    "    As a percentage of the minimum per-captia income, calculate the relative income gap between the extremes of the income distribution each year.\n",
    "    \n",
    "   Identify the year with the maximum relative income gap.\n",
    "   \n",
    "</div>"
   ]
  },
  {
   "cell_type": "code",
   "execution_count": null,
   "metadata": {},
   "outputs": [],
   "source": [
    "# %load solutions/120_3.py"
   ]
  },
  {
   "cell_type": "markdown",
   "metadata": {},
   "source": [
    "<div class=\"alert alert-info\" style=\"font-size:120%\">\n",
    "<b>Further Readings</b>: <br>\n",
    "    <a rel='further' href=\"https://pandas.pydata.org/pandas-docs/stable/index.html\">Pandas Documentation</a>\n",
    "</div>"
   ]
  },
  {
   "cell_type": "markdown",
   "metadata": {},
   "source": [
    "---\n",
    "\n",
    "<a rel=\"license\" href=\"http://creativecommons.org/licenses/by-nc-\n",
    "sa/4.0/\"><img alt=\"Creative Commons License\" style=\"border-width:0\"\n",
    "src=\"https://i.creativecommons.org/l/by-nc-sa/4.0/88x31.png\" /></a><br /><span\n",
    "xmlns:dct=\"http://purl.org/dc/terms/\" property=\"dct:title\">Pandas</span> by <a xmlns:cc=\"http://creativecommons.org/ns#\"\n",
    "href=\"http://sergerey.org\" property=\"cc:attributionName\"\n",
    "rel=\"cc:attributionURL\">Serge Rey</a> is licensed under a <a\n",
    "rel=\"license\" href=\"http://creativecommons.org/licenses/by-nc-sa/4.0/\">Creative\n",
    "Commons Attribution-NonCommercial-ShareAlike 4.0 International License</a>."
   ]
  }
 ],
 "metadata": {
  "jupytext": {
   "formats": "ipynb,md"
  },
  "kernelspec": {
   "display_name": "Python 3",
   "language": "python",
   "name": "python3"
  },
  "language_info": {
   "codemirror_mode": {
    "name": "ipython",
    "version": 3
   },
   "file_extension": ".py",
   "mimetype": "text/x-python",
   "name": "python",
   "nbconvert_exporter": "python",
   "pygments_lexer": "ipython3",
   "version": "3.6.7"
  }
 },
 "nbformat": 4,
 "nbformat_minor": 4
}
